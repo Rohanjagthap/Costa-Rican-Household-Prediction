{
 "cells": [
  {
   "cell_type": "markdown",
   "metadata": {},
   "source": [
    "# Objective:\n",
    "Predict poverty on a household level\n",
    "The Target values represent poverty levels as follows:\n",
    "\n",
    "1 = extreme poverty\n",
    "\n",
    "2 = moderate poverty \n",
    "\n",
    "3 = vulnerable households\n",
    "\n",
    "4 = non vulnerable households\n",
    "\n",
    "## About data provided:\n",
    "\n",
    "     Here we are provided with a modelling data of 9557 rows and 143 features which consists of various factors that effects the household poverty level in some way.\n",
    "     One row of information tells about one person\n",
    "     Data consists of living situation,dependency of an individual,education,age etc\n",
    "     Below is the list of the features with there name and description"
   ]
  },
  {
   "cell_type": "code",
   "execution_count": 1,
   "metadata": {},
   "outputs": [],
   "source": [
    "import numpy as np\n",
    "import pandas as pd\n",
    "import seaborn as sns\n",
    "import matplotlib.pyplot as plt\n",
    "\n",
    "from sklearn.model_selection import train_test_split\n",
    "from sklearn.preprocessing import LabelEncoder\n",
    "\n",
    "import statsmodels.api as sm\n",
    "import scipy.stats as st\n",
    "\n",
    "from sklearn.linear_model import LogisticRegression\n",
    "from sklearn.model_selection import GridSearchCV\n",
    "from sklearn.tree import DecisionTreeClassifier\n",
    "from sklearn.neighbors import KNeighborsClassifier\n",
    "from sklearn.ensemble import RandomForestClassifier \n",
    "\n",
    "from sklearn.metrics import accuracy_score,recall_score,precision_score,f1_score,classification_report\n",
    "from sklearn.metrics import confusion_matrix\n",
    "from sklearn.model_selection import cross_val_score\n"
   ]
  },
  {
   "cell_type": "code",
   "execution_count": 2,
   "metadata": {},
   "outputs": [],
   "source": [
    "import warnings\n",
    "warnings.filterwarnings(\"ignore\", category=FutureWarning) "
   ]
  },
  {
   "cell_type": "code",
   "execution_count": 3,
   "metadata": {},
   "outputs": [],
   "source": [
    "family=pd.read_excel('costa_rican_modelling.xlsx')"
   ]
  },
  {
   "cell_type": "code",
   "execution_count": 4,
   "metadata": {},
   "outputs": [],
   "source": [
    "family.drop(columns='Unnamed: 0',inplace=True)"
   ]
  },
  {
   "cell_type": "markdown",
   "metadata": {},
   "source": [
    "# Feature Selection"
   ]
  },
  {
   "cell_type": "markdown",
   "metadata": {},
   "source": [
    "As we have many features in our dataset which might lead us to curse of dimensionality, feature selection is done to reduce the no of features which are most required by filtering out less important features and removing them. \n",
    "\n",
    "There are few featurs in our dataset which are squared of other features. These features are generally added to increase the linearity of the model. Lets remove those set of the features as we are going with non-linear models."
   ]
  },
  {
   "cell_type": "code",
   "execution_count": 5,
   "metadata": {},
   "outputs": [],
   "source": [
    "#manually listed out the sqaured features.\n",
    "squared = ['SQBescolari', 'SQBage', 'SQBhogar_total', 'SQBedjefe', \n",
    "        'SQBhogar_nin', 'SQBovercrowding', 'SQBdependency', 'SQBmeaned', 'agesq']"
   ]
  },
  {
   "cell_type": "code",
   "execution_count": 6,
   "metadata": {},
   "outputs": [],
   "source": [
    "family_clean=family.drop(columns=squared)"
   ]
  },
  {
   "cell_type": "code",
   "execution_count": 7,
   "metadata": {},
   "outputs": [],
   "source": [
    "#Derives pairs which have very high correlation.\n",
    "corr_matrix = family_clean.corr().abs()\n",
    "high_corr_var=np.where(corr_matrix>0.9)\n",
    "high_corr_var=[(corr_matrix.columns[x],corr_matrix.columns[y]) for x,y in zip(*high_corr_var) if x!=y and x<y]"
   ]
  },
  {
   "cell_type": "code",
   "execution_count": 8,
   "metadata": {},
   "outputs": [
    {
     "data": {
      "text/plain": [
       "[('r4t3', 'tamhog'),\n",
       " ('r4t3', 'tamviv'),\n",
       " ('r4t3', 'hhsize'),\n",
       " ('r4t3', 'hogar_total'),\n",
       " ('tamhog', 'tamviv'),\n",
       " ('tamhog', 'hhsize'),\n",
       " ('tamhog', 'hogar_total'),\n",
       " ('tamviv', 'hhsize'),\n",
       " ('tamviv', 'hogar_total'),\n",
       " ('hhsize', 'hogar_total'),\n",
       " ('abastaguadentro', 'abastaguafuera'),\n",
       " ('public', 'coopele'),\n",
       " ('sanitario2', 'sanitario3'),\n",
       " ('energcocinar2', 'energcocinar3'),\n",
       " ('male', 'female'),\n",
       " ('area1', 'area2')]"
      ]
     },
     "execution_count": 8,
     "metadata": {},
     "output_type": "execute_result"
    }
   ],
   "source": [
    "high_corr_var"
   ]
  },
  {
   "cell_type": "markdown",
   "metadata": {},
   "source": [
    "The above pairs have high correlation, and by the feature description we can also notice that few of these features explain the same thing (redundancy in the data).\n",
    "\n",
    "- r4t3,tamhog,tamviv,hhsize,hogar_total give information of about total no of people in the household, thus this is a redundant information, hence only one of these features can be selected.\n",
    "- pairs such as ('male', 'female'),('area1', 'area2'),('abastaguadentro', 'abastaguafuera'),('public', 'coopele') are boolean type features which contradict each other, hence only one of the features in these pairs can be selected.\n",
    "- Other two pairs left, give us different information but are highly correlated. We will keep these features for now and apply any feature selection method to reduce features further.\n",
    "\n",
    "features to remove are:\n",
    "\n",
    "- r4t3\n",
    "- tamhog \n",
    "- tamviv\n",
    "- hogar_total\n",
    "- female\n",
    "- area2\n",
    "- abastaguafuera\n",
    "- coopele"
   ]
  },
  {
   "cell_type": "code",
   "execution_count": 9,
   "metadata": {},
   "outputs": [],
   "source": [
    "redundant=['r4t3','tamhog','tamviv','hogar_total','female','area2','abastaguafuera','coopele']"
   ]
  },
  {
   "cell_type": "code",
   "execution_count": 10,
   "metadata": {},
   "outputs": [],
   "source": [
    "family_clean.drop(columns=redundant,inplace=True)"
   ]
  },
  {
   "cell_type": "markdown",
   "metadata": {},
   "source": [
    "# MODEL BUILDING"
   ]
  },
  {
   "cell_type": "code",
   "execution_count": 11,
   "metadata": {},
   "outputs": [
    {
     "data": {
      "text/plain": [
       "hacdor    0\n",
       "rooms     0\n",
       "hacapo    0\n",
       "v14a      0\n",
       "refrig    0\n",
       "         ..\n",
       "lugar5    0\n",
       "lugar6    0\n",
       "area1     0\n",
       "age       0\n",
       "Target    0\n",
       "Length: 122, dtype: int64"
      ]
     },
     "execution_count": 11,
     "metadata": {},
     "output_type": "execute_result"
    }
   ],
   "source": [
    "family_clean.isnull().sum()"
   ]
  },
  {
   "cell_type": "markdown",
   "metadata": {},
   "source": [
    "Before we go into modelling there are few considerations that we have made, which are:\n",
    "\n",
    "- As our data is imbalanced, undersampling and oversampling will be performed and models accuracies will be compared accordingly\n",
    "- A model which can predict all the classes better would be considered apart from the acuracies.\n",
    "- As explainability is one of the objectives here, apart from prediction,dimensionality reduction techniques will be mostly avoided along with models which focuses mainly on performance."
   ]
  },
  {
   "cell_type": "code",
   "execution_count": 12,
   "metadata": {},
   "outputs": [],
   "source": [
    "from numpy import mean\n",
    "from sklearn.datasets import make_classification\n",
    "\n",
    "from sklearn.model_selection import KFold\n",
    "from sklearn.model_selection import cross_val_score\n",
    "from sklearn.model_selection import GridSearchCV\n",
    "\n",
    "from imblearn.under_sampling import NearMiss\n",
    "from imblearn.over_sampling import SMOTE"
   ]
  },
  {
   "cell_type": "code",
   "execution_count": 13,
   "metadata": {},
   "outputs": [],
   "source": [
    "x=family_clean.drop(columns=['Target','idhogar'])\n",
    "y=family_clean.Target"
   ]
  },
  {
   "cell_type": "code",
   "execution_count": 14,
   "metadata": {},
   "outputs": [],
   "source": [
    "xtrain,xtest,ytrain,ytest = train_test_split(x,y,test_size=0.3,random_state=100)"
   ]
  },
  {
   "cell_type": "code",
   "execution_count": 15,
   "metadata": {},
   "outputs": [],
   "source": [
    "from sklearn.preprocessing import StandardScaler\n",
    "scaler=StandardScaler()"
   ]
  },
  {
   "cell_type": "code",
   "execution_count": 16,
   "metadata": {},
   "outputs": [],
   "source": [
    "xtrain_scale=pd.DataFrame(scaler.fit_transform(xtrain),columns=xtrain.columns)\n",
    "xtest_scale=pd.DataFrame(scaler.fit_transform(xtest),columns=xtest.columns)"
   ]
  },
  {
   "cell_type": "code",
   "execution_count": 17,
   "metadata": {},
   "outputs": [
    {
     "data": {
      "text/plain": [
       "4    4194\n",
       "2    1105\n",
       "3     873\n",
       "1     517\n",
       "Name: Target, dtype: int64"
      ]
     },
     "execution_count": 17,
     "metadata": {},
     "output_type": "execute_result"
    }
   ],
   "source": [
    "ytrain.value_counts()"
   ]
  },
  {
   "cell_type": "code",
   "execution_count": 18,
   "metadata": {},
   "outputs": [],
   "source": [
    "nm=NearMiss()"
   ]
  },
  {
   "cell_type": "code",
   "execution_count": 19,
   "metadata": {
    "scrolled": true
   },
   "outputs": [],
   "source": [
    "xtrain_nm, ytrain_nm = nm.fit_resample(xtrain, ytrain)"
   ]
  },
  {
   "cell_type": "code",
   "execution_count": 20,
   "metadata": {},
   "outputs": [
    {
     "data": {
      "text/plain": [
       "3    517\n",
       "1    517\n",
       "4    517\n",
       "2    517\n",
       "Name: Target, dtype: int64"
      ]
     },
     "execution_count": 20,
     "metadata": {},
     "output_type": "execute_result"
    }
   ],
   "source": [
    "ytrain_nm.value_counts()"
   ]
  },
  {
   "cell_type": "code",
   "execution_count": 21,
   "metadata": {},
   "outputs": [],
   "source": [
    "sm=SMOTE()"
   ]
  },
  {
   "cell_type": "code",
   "execution_count": 22,
   "metadata": {},
   "outputs": [],
   "source": [
    "xtrain_sm, ytrain_sm = sm.fit_resample(xtrain, ytrain)"
   ]
  },
  {
   "cell_type": "code",
   "execution_count": 23,
   "metadata": {},
   "outputs": [
    {
     "data": {
      "text/plain": [
       "4    4194\n",
       "3    4194\n",
       "2    4194\n",
       "1    4194\n",
       "Name: Target, dtype: int64"
      ]
     },
     "execution_count": 23,
     "metadata": {},
     "output_type": "execute_result"
    }
   ],
   "source": [
    "ytrain_sm.value_counts()"
   ]
  },
  {
   "cell_type": "code",
   "execution_count": 24,
   "metadata": {},
   "outputs": [],
   "source": [
    "#createing a list of models to perform a loop on different training sets and select a model.\n",
    "DT1= DecisionTreeClassifier(criterion = 'entropy',random_state=0 )\n",
    "DT2= DecisionTreeClassifier(criterion = 'gini',random_state=0 )\n",
    "KNN= KNeighborsClassifier(metric='manhattan')\n",
    "\n",
    "models2=[]\n",
    "models2.append(('DecisionTree_entropy',DT1))\n",
    "models2.append(('DecisionTree_gini',DT2))\n",
    "models2.append(('KNN',KNN))\n"
   ]
  },
  {
   "cell_type": "code",
   "execution_count": 25,
   "metadata": {},
   "outputs": [
    {
     "name": "stdout",
     "output_type": "stream",
     "text": [
      "DecisionTree_entropy: 0.104185 (0.000097)\n",
      "DecisionTree_gini: 0.113916 (0.000067)\n",
      "KNN: 0.206183 (0.000206)\n"
     ]
    },
    {
     "data": {
      "image/png": "[encoded data removed]",
      "text/plain": [
       "<Figure size 432x288 with 1 Axes>"
      ]
     },
     "metadata": {
      "needs_background": "light"
     },
     "output_type": "display_data"
    }
   ],
   "source": [
    "from sklearn import model_selection\n",
    "\n",
    "# evaluate each model in turn\n",
    "results2 = []\n",
    "names2 = []\n",
    "for name, model in models2:\n",
    "\tkfold = model_selection.KFold(shuffle=True,n_splits=10,random_state=0)\n",
    "\tcv_results = model_selection.cross_val_score(model, xtrain_scale, ytrain,cv=kfold, scoring='f1_weighted')\n",
    "\tresults2.append(cv_results)\n",
    "\tnames2.append(name)\n",
    "\tprint(\"%s: %f (%f)\" % (name, 1-np.mean(cv_results),np.var(cv_results,ddof=1)))\n",
    "   # boxplot algorithm comparison\n",
    "fig = plt.figure()\n",
    "fig.suptitle('Algorithm Comparison')\n",
    "ax = fig.add_subplot(111)\n",
    "plt.boxplot(results2)\n",
    "ax.set_xticklabels(names2)\n",
    "plt.show()\n"
   ]
  },
  {
   "cell_type": "code",
   "execution_count": 26,
   "metadata": {},
   "outputs": [
    {
     "name": "stdout",
     "output_type": "stream",
     "text": [
      "DecisionTree_entropy: 0.104006 (0.000109)\n",
      "DecisionTree_gini: 0.113739 (0.000064)\n",
      "KNN: 0.320886 (0.000431)\n"
     ]
    },
    {
     "data": {
      "image/png": "[encoded data removed]",
      "text/plain": [
       "<Figure size 432x288 with 1 Axes>"
      ]
     },
     "metadata": {
      "needs_background": "light"
     },
     "output_type": "display_data"
    }
   ],
   "source": [
    "from sklearn import model_selection\n",
    "\n",
    "# evaluate each model in turn\n",
    "results2 = []\n",
    "names2 = []\n",
    "for name, model in models2:\n",
    "\tkfold = model_selection.KFold(shuffle=True,n_splits=10,random_state=0)\n",
    "\tcv_results = model_selection.cross_val_score(model, xtrain, ytrain,cv=kfold, scoring='f1_weighted')\n",
    "\tresults2.append(cv_results)\n",
    "\tnames2.append(name)\n",
    "\tprint(\"%s: %f (%f)\" % (name, 1-np.mean(cv_results),np.var(cv_results,ddof=1)))\n",
    "   # boxplot algorithm comparison\n",
    "fig = plt.figure()\n",
    "fig.suptitle('Algorithm Comparison')\n",
    "ax = fig.add_subplot(111)\n",
    "plt.boxplot(results2)\n",
    "ax.set_xticklabels(names2)\n",
    "plt.show()\n"
   ]
  },
  {
   "cell_type": "code",
   "execution_count": 27,
   "metadata": {},
   "outputs": [
    {
     "name": "stdout",
     "output_type": "stream",
     "text": [
      "DecisionTree_entropy: 0.306569 (0.000609)\n",
      "DecisionTree_gini: 0.303697 (0.001388)\n",
      "KNN: 0.521252 (0.001509)\n"
     ]
    },
    {
     "data": {
      "image/png": "[encoded data removed]",
      "text/plain": [
       "<Figure size 432x288 with 1 Axes>"
      ]
     },
     "metadata": {
      "needs_background": "light"
     },
     "output_type": "display_data"
    }
   ],
   "source": [
    "from sklearn import model_selection\n",
    "\n",
    "# evaluate each model in turn\n",
    "results2 = []\n",
    "names2 = []\n",
    "for name, model in models2:\n",
    "\tkfold = model_selection.KFold(shuffle=True,n_splits=10,random_state=0)\n",
    "\tcv_results = model_selection.cross_val_score(model, xtrain_nm, ytrain_nm,cv=kfold, scoring='f1_weighted')\n",
    "\tresults2.append(cv_results)\n",
    "\tnames2.append(name)\n",
    "\tprint(\"%s: %f (%f)\" % (name, 1-np.mean(cv_results),np.var(cv_results,ddof=1)))\n",
    "   # boxplot algorithm comparison\n",
    "fig = plt.figure()\n",
    "fig.suptitle('Algorithm Comparison')\n",
    "ax = fig.add_subplot(111)\n",
    "plt.boxplot(results2)\n",
    "ax.set_xticklabels(names2)\n",
    "plt.show()\n"
   ]
  },
  {
   "cell_type": "code",
   "execution_count": 28,
   "metadata": {},
   "outputs": [
    {
     "name": "stdout",
     "output_type": "stream",
     "text": [
      "DecisionTree_entropy: 0.115113 (0.000108)\n",
      "DecisionTree_gini: 0.122498 (0.000089)\n",
      "KNN: 0.117373 (0.000115)\n"
     ]
    },
    {
     "data": {
      "image/png": "[encoded data removed]",
      "text/plain": [
       "<Figure size 432x288 with 1 Axes>"
      ]
     },
     "metadata": {
      "needs_background": "light"
     },
     "output_type": "display_data"
    }
   ],
   "source": [
    "from sklearn import model_selection\n",
    "\n",
    "# evaluate each model in turn\n",
    "results2 = []\n",
    "names2 = []\n",
    "for name, model in models2:\n",
    "\tkfold = model_selection.KFold(shuffle=True,n_splits=10,random_state=0)\n",
    "\tcv_results = model_selection.cross_val_score(model, xtrain_sm, ytrain_sm,cv=kfold, scoring='f1_weighted')\n",
    "\tresults2.append(cv_results)\n",
    "\tnames2.append(name)\n",
    "\tprint(\"%s: %f (%f)\" % (name, 1-np.mean(cv_results),np.var(cv_results,ddof=1)))\n",
    "   # boxplot algorithm comparison\n",
    "fig = plt.figure()\n",
    "fig.suptitle('Algorithm Comparison')\n",
    "ax = fig.add_subplot(111)\n",
    "plt.boxplot(results2)\n",
    "ax.set_xticklabels(names2)\n",
    "plt.show()\n"
   ]
  },
  {
   "cell_type": "markdown",
   "metadata": {},
   "source": [
    "From the above boxplot comparisions of the base models with different training sets, following inferences can be derived:\n",
    "\n",
    "- DT with entropy performs well in all cases, RF can be adopted over here.\n",
    "- scaling the data can be avoided as KNN is not the choice over here.\n",
    "- undersampled data is not enough for the model to learn the pattern and make accurate predictions.\n",
    "- Although imbalance data and oversampled data gives us better scores, its ability to predict all classes needs to checked."
   ]
  },
  {
   "cell_type": "markdown",
   "metadata": {},
   "source": [
    "# Random Forest"
   ]
  },
  {
   "cell_type": "code",
   "execution_count": 29,
   "metadata": {},
   "outputs": [],
   "source": [
    "RF_whole=RandomForestClassifier()"
   ]
  },
  {
   "cell_type": "code",
   "execution_count": 30,
   "metadata": {},
   "outputs": [
    {
     "name": "stdout",
     "output_type": "stream",
     "text": [
      "Best Parameters using grid search: \n",
      " {'bootstrap': False, 'criterion': 'entropy', 'max_depth': 23, 'n_estimators': 61}\n"
     ]
    }
   ],
   "source": [
    "#lets use Grid Search CV to find best params for the model\n",
    "param_dist = {'n_estimators':range(25,100),'max_depth':[20,23],'bootstrap': [True, False],'criterion':['entropy']}\n",
    "\n",
    "RFCV= GridSearchCV(RF_whole, cv = 10,param_grid=param_dist, n_jobs = 3)\n",
    "\n",
    "RFCV.fit(xtrain,ytrain)\n",
    "print('Best Parameters using grid search: \\n', RFCV.best_params_)  "
   ]
  },
  {
   "cell_type": "code",
   "execution_count": 31,
   "metadata": {},
   "outputs": [],
   "source": [
    "RF_whole=RandomForestClassifier(bootstrap=False, criterion= 'entropy', max_depth= 23, n_estimators= 61)"
   ]
  },
  {
   "cell_type": "code",
   "execution_count": 32,
   "metadata": {},
   "outputs": [],
   "source": [
    "#cross_val_training score\n",
    "\n",
    "#using imbalance data only as it gives highest accuracy.\n",
    "kfold=KFold(shuffle=True,n_splits=10,random_state=0)\n",
    "scores=cross_val_score(RF_whole,xtrain,ytrain,cv=kfold,scoring='f1_weighted')"
   ]
  },
  {
   "cell_type": "code",
   "execution_count": 33,
   "metadata": {},
   "outputs": [
    {
     "name": "stdout",
     "output_type": "stream",
     "text": [
      "0.929260445402031\n",
      "0.00010460971491078593\n"
     ]
    }
   ],
   "source": [
    "print(scores.mean())\n",
    "print(scores.var())"
   ]
  },
  {
   "cell_type": "code",
   "execution_count": 34,
   "metadata": {},
   "outputs": [
    {
     "data": {
      "text/plain": [
       "RandomForestClassifier(bootstrap=False, criterion='entropy', max_depth=23,\n",
       "                       n_estimators=61)"
      ]
     },
     "execution_count": 34,
     "metadata": {},
     "output_type": "execute_result"
    }
   ],
   "source": [
    "RF_whole.fit(xtrain,ytrain)"
   ]
  },
  {
   "cell_type": "code",
   "execution_count": 35,
   "metadata": {},
   "outputs": [
    {
     "name": "stdout",
     "output_type": "stream",
     "text": [
      "              precision    recall  f1-score   support\n",
      "\n",
      "           1       0.93      0.83      0.88       238\n",
      "           2       0.92      0.85      0.88       492\n",
      "           3       0.94      0.85      0.89       336\n",
      "           4       0.95      0.99      0.97      1802\n",
      "\n",
      "    accuracy                           0.94      2868\n",
      "   macro avg       0.93      0.88      0.91      2868\n",
      "weighted avg       0.94      0.94      0.94      2868\n",
      "\n",
      "\n",
      "[[ 198   16    1   23]\n",
      " [  15  420   10   47]\n",
      " [   0   18  286   32]\n",
      " [   1    5    8 1788]]\n"
     ]
    }
   ],
   "source": [
    "whole_pred=RF_whole.predict(xtest)\n",
    "print(classification_report(ytest,whole_pred))\n",
    "print()\n",
    "print(confusion_matrix(ytest,whole_pred)) "
   ]
  },
  {
   "cell_type": "markdown",
   "metadata": {},
   "source": [
    "- As we can observe we have very good accuracies for all the classes, Hence we can consider our final model to be performing very well.\n",
    "- Although we did try treating the imbalance in the data, results from the imbalance data have feteched us best results.\n",
    "- Lets now have a look at what features have contributed the most to the prediction."
   ]
  },
  {
   "cell_type": "code",
   "execution_count": 37,
   "metadata": {},
   "outputs": [],
   "source": [
    "#we are taking only top 10 features.\n",
    "features_significance=pd.DataFrame(RF_whole.feature_importances_)"
   ]
  },
  {
   "cell_type": "code",
   "execution_count": 43,
   "metadata": {},
   "outputs": [],
   "source": [
    "features_significance.index=xtrain.columns"
   ]
  },
  {
   "cell_type": "code",
   "execution_count": 52,
   "metadata": {},
   "outputs": [
    {
     "data": {
      "text/html": [
       "<div>\n",
       "<style scoped>\n",
       "    .dataframe tbody tr th:only-of-type {\n",
       "        vertical-align: middle;\n",
       "    }\n",
       "\n",
       "    .dataframe tbody tr th {\n",
       "        vertical-align: top;\n",
       "    }\n",
       "\n",
       "    .dataframe thead th {\n",
       "        text-align: right;\n",
       "    }\n",
       "</style>\n",
       "<table border=\"1\" class=\"dataframe\">\n",
       "  <thead>\n",
       "    <tr style=\"text-align: right;\">\n",
       "      <th></th>\n",
       "      <th>0</th>\n",
       "    </tr>\n",
       "  </thead>\n",
       "  <tbody>\n",
       "    <tr>\n",
       "      <th>meaneduc</th>\n",
       "      <td>0.068946</td>\n",
       "    </tr>\n",
       "    <tr>\n",
       "      <th>dependency</th>\n",
       "      <td>0.047830</td>\n",
       "    </tr>\n",
       "    <tr>\n",
       "      <th>overcrowding</th>\n",
       "      <td>0.039139</td>\n",
       "    </tr>\n",
       "    <tr>\n",
       "      <th>edjefe</th>\n",
       "      <td>0.036575</td>\n",
       "    </tr>\n",
       "    <tr>\n",
       "      <th>hogar_nin</th>\n",
       "      <td>0.032444</td>\n",
       "    </tr>\n",
       "    <tr>\n",
       "      <th>qmobilephone</th>\n",
       "      <td>0.032185</td>\n",
       "    </tr>\n",
       "    <tr>\n",
       "      <th>rooms</th>\n",
       "      <td>0.027359</td>\n",
       "    </tr>\n",
       "    <tr>\n",
       "      <th>r4t2</th>\n",
       "      <td>0.024036</td>\n",
       "    </tr>\n",
       "    <tr>\n",
       "      <th>edjefa</th>\n",
       "      <td>0.024006</td>\n",
       "    </tr>\n",
       "    <tr>\n",
       "      <th>hhsize</th>\n",
       "      <td>0.023864</td>\n",
       "    </tr>\n",
       "  </tbody>\n",
       "</table>\n",
       "</div>"
      ],
      "text/plain": [
       "                     0\n",
       "meaneduc      0.068946\n",
       "dependency    0.047830\n",
       "overcrowding  0.039139\n",
       "edjefe        0.036575\n",
       "hogar_nin     0.032444\n",
       "qmobilephone  0.032185\n",
       "rooms         0.027359\n",
       "r4t2          0.024036\n",
       "edjefa        0.024006\n",
       "hhsize        0.023864"
      ]
     },
     "execution_count": 52,
     "metadata": {},
     "output_type": "execute_result"
    }
   ],
   "source": [
    "features_significance.sort_values(by=0,ascending=False).iloc[0:10]"
   ]
  },
  {
   "cell_type": "code",
   "execution_count": 54,
   "metadata": {},
   "outputs": [
    {
     "data": {
      "text/plain": [
       "<matplotlib.axes._subplots.AxesSubplot at 0x299f1fa90a0>"
      ]
     },
     "execution_count": 54,
     "metadata": {},
     "output_type": "execute_result"
    },
    {
     "data": {
      "image/png": "[encoded data removed]",
      "text/plain": [
       "<Figure size 432x288 with 1 Axes>"
      ]
     },
     "metadata": {
      "needs_background": "light"
     },
     "output_type": "display_data"
    }
   ],
   "source": [
    "features_significance.sort_values(by=0,ascending=False).iloc[0:10].plot(kind='barh')"
   ]
  },
  {
   "cell_type": "raw",
   "metadata": {},
   "source": [
    "gitMeaneduc - average years of education for adults (18+) is the highest contributing factor to the prediction.\n",
    "\n",
    "Below are other few features which come under top 10 siginficant features:\n",
    "Dependency - Dependent members of household on that individual.\n",
    "Overcrowding - Persons per room in an household.\n",
    "edjefe - years of education of male head of household (if male).\n",
    "hogar_nin - Number of children 0 to 19 in household.\n",
    "qmobilephone - Number of mobile phones in household.\n",
    "rooms - number of all rooms in the house.\n",
    "r4t2 - persons 12 years of age and older.\n",
    "edjefa - years of education of female head of household (if female).\n",
    "hhsize - Household size (number of persons in an household).\n",
    "\n",
    "The above features a very important role in an individuals, household status. Hence a detail study on these criteria above can be on an individual level and reforms/measures can be taken on these to improve the status of as many indviduals as possible.\n",
    "\n",
    "Also these features can be studied and based on these features a basic idea of an individuals status can be derived to provide aid to the right persons in need."
   ]
  },
  {
   "cell_type": "raw",
   "metadata": {},
   "source": [
    "Other techniques that can be applied:\n",
    "- As we already have better accuracy and model is performing very well, other techniques or models were not explored which can be done.\n",
    "- Feature selection techniques such as RFE(Recursive feature selection) could have been performed.\n",
    "- we can notice that there are alot of features which form a subset of a particular features, Hence PCA or MCA (relevant technique) could have been applied using various permutations and combinations in the data, to have more variance explained."
   ]
  }
 ],
 "metadata": {
  "kernelspec": {
   "display_name": "Python 3",
   "language": "python",
   "name": "python3"
  },
  "language_info": {
   "codemirror_mode": {
    "name": "ipython",
    "version": 3
   },
   "file_extension": ".py",
   "mimetype": "text/x-python",
   "name": "python",
   "nbconvert_exporter": "python",
   "pygments_lexer": "ipython3",
   "version": "3.8.3"
  }
 },
 "nbformat": 4,
 "nbformat_minor": 4
}
